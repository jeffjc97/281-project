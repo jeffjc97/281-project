{
 "cells": [
  {
   "cell_type": "code",
   "execution_count": 30,
   "metadata": {
    "collapsed": true
   },
   "outputs": [],
   "source": [
    "import csv\n",
    "import numpy as np\n",
    "import torch\n",
    "from matplotlib import pyplot as plt\n",
    "from torch.autograd import Variable"
   ]
  },
  {
   "cell_type": "code",
   "execution_count": 3,
   "metadata": {
    "collapsed": true
   },
   "outputs": [],
   "source": [
    "hdrs = None\n",
    "data = None\n",
    "# parse data from song features\n",
    "with open(\"data/5000_artist_song_features.csv\", \"r\") as f:\n",
    "    reader = csv.reader(f)\n",
    "    all_rows = list(reader)\n",
    "    hdrs = all_rows[0]\n",
    "    data = all_rows[1:]\n",
    "\n",
    "# join artist popularity into data set\n",
    "artists = {}\n",
    "hdrs.append('artist_popularity')\n",
    "with open(\"data/5000_artist_list.csv\", \"r\", encoding='ISO-8859-1') as f:\n",
    "    reader = csv.reader(f); next(reader)\n",
    "    for row in reader:\n",
    "        artists[row[0]] = {\n",
    "            \"name\": row[1],\n",
    "            \"popularity\": row[2]\n",
    "        }\n",
    "for i in range(len(data)):\n",
    "    artist_id = data[i][1]\n",
    "    if artist_id in artists:\n",
    "        data[i].append(artists[artist_id][\"popularity\"])"
   ]
  },
  {
   "cell_type": "code",
   "execution_count": 12,
   "metadata": {},
   "outputs": [
    {
     "name": "stdout",
     "output_type": "stream",
     "text": [
      "Number of data rows: 40134\n",
      "Number of valid data rows: 40134\n"
     ]
    }
   ],
   "source": [
    "print(\"Number of data rows: {}\".format(len(data)))\n",
    "data = list(filter(lambda row: len(row) == 21, data))\n",
    "print(\"Number of valid data rows: {}\".format(len(data)))\n",
    "\n",
    "data_idx = [\n",
    "    'duration', 'explicit', 'danceability', 'energy', 'key', 'loudness', \n",
    "    'mode', 'speechiness', 'acousticness', 'instrumentalness', 'liveness', \n",
    "    'valence', 'tempo', 'time_signature'#, 'artist_popularity'\n",
    "]\n",
    "x_data_idx = list(map(lambda d: hdrs.index(d), data_idx))\n",
    "y_data_idx = [hdrs.index('popularity')]\n",
    "\n",
    "# do some parsing and convert data\n",
    "for i in range(len(data)):\n",
    "    data[i][4] = str(int(data[i][4] == 'True'))\n",
    "data = np.array(data)\n",
    "\n",
    "# retrieve features and predicted values\n",
    "y_data = data[:, y_data_idx].astype(np.float)\n",
    "x_data = data[:, x_data_idx].astype(np.float)"
   ]
  },
  {
   "cell_type": "code",
   "execution_count": 32,
   "metadata": {
    "collapsed": true
   },
   "outputs": [],
   "source": [
    "N, F = x_data.shape\n",
    "N_TRAIN = int(N * 0.9)\n",
    "x_train = Variable(torch.Tensor(x_data[:N_TRAIN]), requires_grad=False)\n",
    "y_train = Variable(torch.Tensor(y_data[:N_TRAIN]), requires_grad=False)\n",
    "x_test = Variable(torch.Tensor(x_data[N_TRAIN:]), requires_grad=False)\n",
    "y_test = Variable(torch.Tensor(y_data[N_TRAIN:]), requires_grad=False)\n",
    "w_beta = Variable(torch.randn(F, 1), requires_grad=True)\n",
    "w_alph = Variable(torch.randn(1), requires_grad=True)\n",
    "optim = torch.optim.Adam([w_beta, w_alph], lr=0.001)"
   ]
  },
  {
   "cell_type": "code",
   "execution_count": 33,
   "metadata": {},
   "outputs": [
    {
     "name": "stdout",
     "output_type": "stream",
     "text": [
      "Starting on SGD\n",
      "Done with step 00500 out of 10000; loss is 23236780.0\n",
      "Done with step 01000 out of 10000; loss is 22421866.0\n",
      "Done with step 01500 out of 10000; loss is 21410054.0\n",
      "Done with step 02000 out of 10000; loss is 20337400.0\n",
      "Done with step 02500 out of 10000; loss is 19334920.0\n",
      "Done with step 03000 out of 10000; loss is 18510232.0\n",
      "Done with step 03500 out of 10000; loss is 17920444.0\n",
      "Done with step 04000 out of 10000; loss is 17556728.0\n",
      "Done with step 04500 out of 10000; loss is 17356702.0\n",
      "Done with step 05000 out of 10000; loss is 17241614.0\n",
      "Done with step 05500 out of 10000; loss is 17152692.0\n",
      "Done with step 06000 out of 10000; loss is 17062292.0\n",
      "Done with step 06500 out of 10000; loss is 16963140.0\n",
      "Done with step 07000 out of 10000; loss is 16855364.0\n",
      "Done with step 07500 out of 10000; loss is 16754298.0\n",
      "Done with step 08000 out of 10000; loss is 16761353.0\n",
      "Done with step 08500 out of 10000; loss is 16588671.0\n",
      "Done with step 09000 out of 10000; loss is 16516514.0\n",
      "Done with step 09500 out of 10000; loss is 16451499.0\n",
      "Done with step 10000 out of 10000; loss is 16390784.0\n"
     ]
    }
   ],
   "source": [
    "print(\"Starting on SGD\")\n",
    "N_STEPS = 10000\n",
    "losses = []\n",
    "for step in range(N_STEPS):\n",
    "    pred = x_train.mm(w_beta).add(w_alph.expand(N_TRAIN, 1))\n",
    "    loss = (pred - y_train).pow(2).sum()\n",
    "    if (step + 1) % 500 == 0:\n",
    "        print(\"Done with step {:05d} out of {:05d}; loss is {}\".format(\n",
    "            step + 1, N_STEPS, loss.data.numpy()[0]\n",
    "        ))\n",
    "    losses.append(loss.data.numpy()[0])\n",
    "    optim.zero_grad()\n",
    "    loss.backward()\n",
    "    optim.step()"
   ]
  },
  {
   "cell_type": "code",
   "execution_count": 34,
   "metadata": {},
   "outputs": [
    {
     "data": {
      "image/png": "[encoded data removed]",
      "text/plain": [
       "<matplotlib.figure.Figure at 0x10cb228d0>"
      ]
     },
     "metadata": {},
     "output_type": "display_data"
    }
   ],
   "source": [
    "plt.plot(\n",
    "    list(range(1, N_STEPS + 1)), \n",
    "    list(map(np.log, losses))\n",
    ")\n",
    "plt.xlabel(\"SGD Step\")\n",
    "plt.ylabel(\"MSE\")\n",
    "plt.title(\"Log Popularity Prediction MSE vs. SGD Step Number\")\n",
    "plt.show()"
   ]
  },
  {
   "cell_type": "code",
   "execution_count": null,
   "metadata": {
    "collapsed": true
   },
   "outputs": [],
   "source": []
  }
 ],
 "metadata": {
  "kernelspec": {
   "display_name": "Python 3",
   "language": "python",
   "name": "python3"
  },
  "language_info": {
   "codemirror_mode": {
    "name": "ipython",
    "version": 3
   },
   "file_extension": ".py",
   "mimetype": "text/x-python",
   "name": "python",
   "nbconvert_exporter": "python",
   "pygments_lexer": "ipython3",
   "version": "3.6.1"
  }
 },
 "nbformat": 4,
 "nbformat_minor": 2
}
