{
 "cells": [
  {
   "cell_type": "code",
   "execution_count": 5,
   "metadata": {},
   "outputs": [],
   "source": [
    "import gensim\n",
    "import csv\n",
    "import sys\n",
    "import re\n",
    "from collections import defaultdict"
   ]
  },
  {
   "cell_type": "code",
   "execution_count": 6,
   "metadata": {},
   "outputs": [],
   "source": [
    "hdrs = None\n",
    "data = None\n",
    "csv.field_size_limit(sys.maxsize)\n",
    "\n",
    "# parse data from song features\n",
    "with open(\"../data/random_song_lyrics.csv\", \"r\") as f:\n",
    "    reader = csv.reader(f)\n",
    "    all_rows = list(reader)\n",
    "    hdrs = all_rows[0]\n",
    "    data = all_rows[1:]\n",
    "\n",
    "# remove all non-alphanumeric characters\n",
    "all_lyrics = [[re.sub(r'\\W+', '', w)  for w in d[3].split()] for d in data]"
   ]
  },
  {
   "cell_type": "code",
   "execution_count": 7,
   "metadata": {},
   "outputs": [],
   "source": [
    "# remove common words\n",
    "stoplist = ['ourselves', 'hers', 'between', 'yourself', 'but', 'again', 'there', 'about', 'once', 'during', 'out', 'very', 'having', 'with', 'they', 'own', 'an', 'be', 'some', 'for', 'do', 'its', 'yours', 'such', 'into', 'of', 'most', 'itself', 'other', 'off', 'is', 's', 'am', 'or', 'who', 'as', 'from', 'him', 'each', 'the', 'themselves', 'until', 'below', 'are', 'we', 'these', 'your', 'his', 'through', 'don', 'nor', 'me', 'were', 'her', 'more', 'himself', 'this', 'down', 'should', 'our', 'their', 'while', 'above', 'both', 'up', 'to', 'ours', 'had', 'she', 'all', 'no', 'when', 'at', 'any', 'before', 'them', 'same', 'and', 'been', 'have', 'in', 'will', 'on', 'does', 'yourselves', 'then', 'that', 'because', 'what', 'over', 'why', 'so', 'can', 'did', 'not', 'now', 'under', 'he', 'you', 'herself', 'has', 'just', 'where', 'too', 'only', 'myself', 'which', 'those', 'i', 'after', 'few', 'whom', 't', 'being', 'if', 'theirs', 'my', 'against', 'a', 'by', 'doing', 'it', 'how', 'further', 'was', 'here', 'than']\n",
    "all_lyrics = [[word for word in lyric if word not in stoplist] for lyric in all_lyrics]\n",
    "\n",
    "# remove words that only occur once\n",
    "frequency = defaultdict(int)\n",
    "for lyric in all_lyrics:\n",
    "    for token in lyric:\n",
    "        frequency[token] += 1\n",
    "\n",
    "all_lyrics = [[word for word in lyric if frequency[word] > 1] for lyric in all_lyrics]"
   ]
  },
  {
   "cell_type": "code",
   "execution_count": 8,
   "metadata": {},
   "outputs": [],
   "source": [
    "id2word = gensim.corpora.dictionary.Dictionary(all_lyrics)\n",
    "corpus = [id2word.doc2bow(lyric) for lyric in all_lyrics]"
   ]
  },
  {
   "cell_type": "code",
   "execution_count": 9,
   "metadata": {},
   "outputs": [],
   "source": [
    "lda = gensim.models.ldamodel.LdaModel(corpus=corpus, id2word=id2word, num_topics=10, update_every=1, chunksize=1, passes=1)"
   ]
  },
  {
   "cell_type": "code",
   "execution_count": 12,
   "metadata": {},
   "outputs": [
    {
     "data": {
      "text/plain": [
       "[(0,\n",
       "  '0.074*\"love\" + 0.020*\"call\" + 0.017*\"things\" + 0.016*\"give\" + 0.016*\"well\" + 0.014*\"theres\" + 0.012*\"cigarettes\" + 0.012*\"world\" + 0.011*\"fucking\" + 0.011*\"see\"'),\n",
       " (1,\n",
       "  '0.027*\"que\" + 0.025*\"ya\" + 0.021*\"y\" + 0.021*\"yo\" + 0.019*\"te\" + 0.018*\"3\" + 0.016*\"es\" + 0.016*\"remix\" + 0.016*\"el\" + 0.013*\"en\"'),\n",
       " (2,\n",
       "  '0.016*\"4\" + 0.012*\"9\" + 0.009*\"chat\" + 0.009*\"minaj\" + 0.009*\"piggy\" + 0.009*\"2015\" + 0.008*\"nicki\" + 0.008*\"int\" + 0.008*\"ricky\" + 0.007*\"dj\"'),\n",
       " (3,\n",
       "  '0.074*\"know\" + 0.036*\"go\" + 0.035*\"let\" + 0.028*\"aint\" + 0.016*\"ive\" + 0.015*\"niggas\" + 0.014*\"fuck\" + 0.014*\"really\" + 0.014*\"bitch\" + 0.014*\"girl\"'),\n",
       " (4,\n",
       "  '0.018*\"man\" + 0.015*\"one\" + 0.013*\"never\" + 0.010*\"us\" + 0.009*\"come\" + 0.009*\"like\" + 0.008*\"say\" + 0.007*\"needed\" + 0.007*\"good\" + 0.007*\"time\"'),\n",
       " (5,\n",
       "  '0.009*\"many\" + 0.007*\"may\" + 0.007*\"men\" + 0.007*\"rorschach\" + 0.007*\"made\" + 0.005*\"10\" + 0.005*\"manhattan\" + 0.005*\"also\" + 0.005*\"knowledge\" + 0.005*\"weight\"'),\n",
       " (6,\n",
       "  '0.191*\"\" + 0.029*\"bom\" + 0.021*\"feat\" + 0.010*\"big\" + 0.010*\"nick\" + 0.010*\"jonas\" + 0.007*\"kendrick\" + 0.007*\"gambino\" + 0.006*\"mike\" + 0.006*\"childish\"'),\n",
       " (7,\n",
       "  '0.080*\"la\" + 0.049*\"na\" + 0.044*\"de\" + 0.035*\"ft\" + 0.021*\"tu\" + 0.021*\"cush\" + 0.020*\"und\" + 0.018*\"woke\" + 0.016*\"lo\" + 0.015*\"nicht\"'),\n",
       " (8,\n",
       "  '0.108*\"im\" + 0.062*\"dont\" + 0.044*\"yeah\" + 0.040*\"like\" + 0.038*\"got\" + 0.033*\"oh\" + 0.030*\"get\" + 0.030*\"verse\" + 0.029*\"chorus\" + 0.025*\"youre\"'),\n",
       " (9,\n",
       "  '0.033*\"ich\" + 0.027*\"nothing\" + 0.024*\"truth\" + 0.021*\"whats\" + 0.020*\"dem\" + 0.019*\"du\" + 0.018*\"someone\" + 0.017*\"everything\" + 0.017*\"words\" + 0.011*\"open\"')]"
      ]
     },
     "execution_count": 12,
     "metadata": {},
     "output_type": "execute_result"
    }
   ],
   "source": [
    "lda.print_topics()"
   ]
  },
  {
   "cell_type": "code",
   "execution_count": null,
   "metadata": {},
   "outputs": [],
   "source": []
  }
 ],
 "metadata": {
  "kernelspec": {
   "display_name": "Python 3",
   "language": "python",
   "name": "python3"
  },
  "language_info": {
   "codemirror_mode": {
    "name": "ipython",
    "version": 3
   },
   "file_extension": ".py",
   "mimetype": "text/x-python",
   "name": "python",
   "nbconvert_exporter": "python",
   "pygments_lexer": "ipython3",
   "version": "3.6.2"
  }
 },
 "nbformat": 4,
 "nbformat_minor": 2
}
