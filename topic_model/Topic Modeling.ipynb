{
 "cells": [
  {
   "cell_type": "code",
   "execution_count": 36,
   "metadata": {},
   "outputs": [],
   "source": [
    "import gensim\n",
    "import csv\n",
    "import re\n",
    "from collections import defaultdict"
   ]
  },
  {
   "cell_type": "code",
   "execution_count": 37,
   "metadata": {},
   "outputs": [],
   "source": [
    "hdrs = None\n",
    "data = None\n",
    "\n",
    "# parse data from song features\n",
    "with open(\"billboard_history_lyrics.csv\", \"r\") as f:\n",
    "    reader = csv.reader(f)\n",
    "    all_rows = list(reader)\n",
    "    hdrs = all_rows[0]\n",
    "    data = all_rows[1:]\n",
    "\n",
    "# remove all non-alphanumeric characters\n",
    "all_lyrics = [[re.sub(r'\\W+', '', w)  for w in d[3].split()] for d in data]"
   ]
  },
  {
   "cell_type": "code",
   "execution_count": 38,
   "metadata": {},
   "outputs": [],
   "source": [
    "# remove common words\n",
    "stoplist = ['ourselves', 'hers', 'between', 'yourself', 'but', 'again', 'there', 'about', 'once', 'during', 'out', 'very', 'having', 'with', 'they', 'own', 'an', 'be', 'some', 'for', 'do', 'its', 'yours', 'such', 'into', 'of', 'most', 'itself', 'other', 'off', 'is', 's', 'am', 'or', 'who', 'as', 'from', 'him', 'each', 'the', 'themselves', 'until', 'below', 'are', 'we', 'these', 'your', 'his', 'through', 'don', 'nor', 'me', 'were', 'her', 'more', 'himself', 'this', 'down', 'should', 'our', 'their', 'while', 'above', 'both', 'up', 'to', 'ours', 'had', 'she', 'all', 'no', 'when', 'at', 'any', 'before', 'them', 'same', 'and', 'been', 'have', 'in', 'will', 'on', 'does', 'yourselves', 'then', 'that', 'because', 'what', 'over', 'why', 'so', 'can', 'did', 'not', 'now', 'under', 'he', 'you', 'herself', 'has', 'just', 'where', 'too', 'only', 'myself', 'which', 'those', 'i', 'after', 'few', 'whom', 't', 'being', 'if', 'theirs', 'my', 'against', 'a', 'by', 'doing', 'it', 'how', 'further', 'was', 'here', 'than']\n",
    "all_lyrics = [[word for word in lyric if word not in stoplist] for lyric in all_lyrics]\n",
    "\n",
    "# remove words that only occur once\n",
    "frequency = defaultdict(int)\n",
    "for lyric in all_lyrics:\n",
    "    for token in lyric:\n",
    "        frequency[token] += 1\n",
    "\n",
    "all_lyrics = [[word for word in lyric if frequency[word] > 1] for lyric in all_lyrics]"
   ]
  },
  {
   "cell_type": "code",
   "execution_count": 39,
   "metadata": {},
   "outputs": [],
   "source": [
    "id2word = gensim.corpora.dictionary.Dictionary(all_lyrics)\n",
    "corpus = [id2word.doc2bow(lyric) for lyric in all_lyrics]"
   ]
  },
  {
   "cell_type": "code",
   "execution_count": 40,
   "metadata": {},
   "outputs": [],
   "source": [
    "lda = gensim.models.ldamodel.LdaModel(corpus=corpus, id2word=id2word, num_topics=10, update_every=1, chunksize=1, passes=1)"
   ]
  },
  {
   "cell_type": "code",
   "execution_count": 41,
   "metadata": {},
   "outputs": [
    {
     "data": {
      "text/plain": [
       "[(0,\n",
       "  '0.088*\"down\" + 0.038*\"girl\" + 0.037*\"hit\" + 0.034*\"let\" + 0.022*\"cash\" + 0.022*\"we\" + 0.021*\"no\" + 0.020*\"hot\" + 0.019*\"while\" + 0.019*\"mmm\"'),\n",
       " (1,\n",
       "  '0.081*\"you\" + 0.080*\"i\" + 0.054*\"it\" + 0.038*\"me\" + 0.029*\"dont\" + 0.022*\"that\" + 0.020*\"know\" + 0.016*\"tell\" + 0.016*\"even\" + 0.015*\"with\"'),\n",
       " (2,\n",
       "  '0.130*\"up\" + 0.047*\"on\" + 0.047*\"my\" + 0.030*\"all\" + 0.028*\"need\" + 0.027*\"me\" + 0.022*\"ready\" + 0.020*\"name\" + 0.020*\"what\" + 0.018*\"got\"'),\n",
       " (3,\n",
       "  '0.079*\"yeah\" + 0.062*\"i\" + 0.052*\"my\" + 0.040*\"on\" + 0.037*\"just\" + 0.032*\"they\" + 0.028*\"make\" + 0.028*\"got\" + 0.027*\"with\" + 0.025*\"wanna\"'),\n",
       " (4,\n",
       "  '0.094*\"god\" + 0.045*\"bank\" + 0.039*\"woke\" + 0.035*\"one\" + 0.028*\"call\" + 0.027*\"drake\" + 0.018*\"dj\" + 0.017*\"big\" + 0.017*\"not\" + 0.015*\"friends\"'),\n",
       " (5,\n",
       "  '0.081*\"loyalty\" + 0.063*\"dog\" + 0.045*\"ooh\" + 0.034*\"lot\" + 0.024*\"dope\" + 0.015*\"lee\" + 0.015*\"kendrick\" + 0.014*\"lamar\" + 0.013*\"rhythm\" + 0.013*\"kill\"'),\n",
       " (6,\n",
       "  '0.114*\"em\" + 0.080*\"niggas\" + 0.043*\"side\" + 0.023*\"hook\" + 0.021*\"how\" + 0.014*\"show\" + 0.014*\"break\" + 0.014*\"beg\" + 0.013*\"summer\" + 0.011*\"hands\"'),\n",
       " (7,\n",
       "  '0.089*\"im\" + 0.052*\"is\" + 0.039*\"this\" + 0.028*\"my\" + 0.026*\"all\" + 0.026*\"nigga\" + 0.024*\"like\" + 0.018*\"life\" + 0.017*\"money\" + 0.015*\"understand\"'),\n",
       " (8,\n",
       "  '0.053*\"bitch\" + 0.039*\"bag\" + 0.031*\"gun\" + 0.030*\"air\" + 0.026*\"on\" + 0.022*\"pull\" + 0.021*\"fuckin\" + 0.015*\"too\" + 0.015*\"my\" + 0.014*\"livin\"'),\n",
       " (9,\n",
       "  '0.181*\"\" + 0.051*\"she\" + 0.047*\"her\" + 0.039*\"baby\" + 0.033*\"chorus\" + 0.028*\"oh\" + 0.026*\"best\" + 0.024*\"gon\" + 0.019*\"them\" + 0.019*\"boy\"')]"
      ]
     },
     "execution_count": 41,
     "metadata": {},
     "output_type": "execute_result"
    }
   ],
   "source": [
    "lda.print_topics(10)"
   ]
  },
  {
   "cell_type": "code",
   "execution_count": null,
   "metadata": {},
   "outputs": [],
   "source": []
  }
 ],
 "metadata": {
  "kernelspec": {
   "display_name": "Python 3",
   "language": "python",
   "name": "python3"
  },
  "language_info": {
   "codemirror_mode": {
    "name": "ipython",
    "version": 3
   },
   "file_extension": ".py",
   "mimetype": "text/x-python",
   "name": "python",
   "nbconvert_exporter": "python",
   "pygments_lexer": "ipython3",
   "version": "3.6.2"
  }
 },
 "nbformat": 4,
 "nbformat_minor": 2
}
