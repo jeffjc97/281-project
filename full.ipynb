{
 "cells": [
  {
   "cell_type": "code",
   "execution_count": 5,
   "metadata": {
    "collapsed": true
   },
   "outputs": [],
   "source": [
    "import csv\n",
    "import numpy as np\n",
    "import os\n",
    "import time\n",
    "import torch\n",
    "from collections import OrderedDict\n",
    "from matplotlib import pyplot as plt\n",
    "from sklearn.linear_model import LinearRegression, LogisticRegression, BayesianRidge\n",
    "from sklearn.ensemble import RandomForestRegressor\n",
    "from torch.autograd import Variable\n",
    "from sklearn.feature_selection import mutual_info_regression"
   ]
  },
  {
   "cell_type": "code",
   "execution_count": 6,
   "metadata": {
    "collapsed": true
   },
   "outputs": [],
   "source": [
    "hdrs = None\n",
    "data = None\n",
    "\n",
    "# parse data from song features\n",
    "with open(\"data/random_song_features.csv\", \"r\") as f:\n",
    "    reader = csv.reader(f)\n",
    "    all_rows = list(reader)\n",
    "    hdrs = all_rows[0]\n",
    "    data = all_rows[1:]\n",
    "    \n",
    "data = np.array(data)\n",
    "np.random.shuffle(data)\n",
    "pop_index = hdrs.index('popularity')\n",
    "all_id = data[:,:2]\n",
    "data = data[:,2:]\n",
    "y_data = data[:,pop_index - 2]\n",
    "x_data = np.delete(data, pop_index - 2, 1)\n",
    "y_data = y_data.astype(np.float)\n",
    "x_data = x_data.astype(np.float)"
   ]
  },
  {
   "cell_type": "code",
   "execution_count": 7,
   "metadata": {},
   "outputs": [
    {
     "name": "stdout",
     "output_type": "stream",
     "text": [
      "Train: 39060\n",
      "Test:  4340\n"
     ]
    }
   ],
   "source": [
    "N_ROWS = len(x_data)\n",
    "N_TRAIN = int(0.9 * N_ROWS)\n",
    "N_TEST = N_ROWS - N_TRAIN\n",
    "x_train = x_data[:N_TRAIN]\n",
    "y_train = y_data[:N_TRAIN]\n",
    "x_test = x_data[N_TRAIN:]\n",
    "y_test = y_data[N_TRAIN:]\n",
    "print(\"Train: {}\\nTest:  {}\".format(N_TRAIN, N_ROWS - N_TRAIN))"
   ]
  },
  {
   "cell_type": "code",
   "execution_count": 19,
   "metadata": {},
   "outputs": [
    {
     "name": "stdout",
     "output_type": "stream",
     "text": [
      "Starting on regressor linear\tFit time: 0.03\n",
      "Starting on regressor bayesian\tFit time: 0.05\n",
      "Starting on regressor mlp\tFit time: 2.02\n",
      "Starting on regressor linSVR\tFit time: 9.24\n",
      "Starting on regressor elastic\t"
     ]
    },
    {
     "name": "stderr",
     "output_type": "stream",
     "text": [
      "/Users/kevinzhang/anaconda/lib/python3.6/site-packages/sklearn/linear_model/coordinate_descent.py:484: ConvergenceWarning: Objective did not converge. You might want to increase the number of iterations. Fitting data with very small alpha may cause precision problems.\n",
      "  ConvergenceWarning)\n"
     ]
    },
    {
     "name": "stdout",
     "output_type": "stream",
     "text": [
      "Fit time: 1.67\n",
      "Starting on regressor lasso\tFit time: 1.65\n",
      "Starting on regressor forest-1\tFit time: 0.84\n",
      "Starting on regressor forest-2\tFit time: 0.93\n",
      "Starting on regressor forest-3\tFit time: 0.93\n",
      "Starting on regressor forest-4\tFit time: 0.93\n",
      "Starting on regressor forest-5\tFit time: 1.04\n",
      "Starting on regressor forest-10\tFit time: 2.16\n",
      "Starting on regressor forest-20\tFit time: 3.32\n",
      "Starting on regressor forest-30\tFit time: 4.74\n",
      "Starting on regressor forest-40\tFit time: 6.69\n",
      "Starting on regressor forest-50\tFit time: 8.04\n",
      "Starting on regressor forest-100\tFit time: 15.24\n",
      "Starting on regressor bagger-1\tFit time: 0.80\n",
      "Starting on regressor bagger-2\tFit time: 1.15\n",
      "Starting on regressor bagger-3\tFit time: 1.15\n",
      "Starting on regressor bagger-4\tFit time: 1.25\n",
      "Starting on regressor bagger-5\tFit time: 1.37\n",
      "Starting on regressor bagger-10\tFit time: 2.50\n",
      "Starting on regressor bagger-20\tFit time: 4.09\n",
      "Starting on regressor bagger-30\tFit time: 6.05\n",
      "Starting on regressor bagger-40\tFit time: 8.02\n",
      "Starting on regressor bagger-50\tFit time: 11.62\n",
      "Starting on regressor bagger-100\tFit time: 19.53\n",
      "Starting on regressor extrat-1\tFit time: 0.32\n",
      "Starting on regressor extrat-2\tFit time: 0.32\n",
      "Starting on regressor extrat-3\tFit time: 0.32\n",
      "Starting on regressor extrat-4\tFit time: 0.32\n",
      "Starting on regressor extrat-5\tFit time: 0.42\n",
      "Starting on regressor extrat-10\tFit time: 0.73\n",
      "Starting on regressor extrat-20\tFit time: 1.15\n",
      "Starting on regressor extrat-30\tFit time: 1.76\n",
      "Starting on regressor extrat-40\tFit time: 2.27\n",
      "Starting on regressor extrat-50\tFit time: 2.90\n",
      "Starting on regressor extrat-100\tFit time: 5.48\n",
      "Starting on regressor gboost-1\tFit time: 0.18\n",
      "Starting on regressor gboost-2\tFit time: 0.28\n",
      "Starting on regressor gboost-3\tFit time: 0.38\n",
      "Starting on regressor gboost-4\tFit time: 0.45\n",
      "Starting on regressor gboost-5\tFit time: 0.54\n",
      "Starting on regressor gboost-10\tFit time: 0.96\n",
      "Starting on regressor gboost-20\tFit time: 1.78\n",
      "Starting on regressor aboost-1\tFit time: 1.18\n",
      "Starting on regressor aboost-2\tFit time: 2.14\n",
      "Starting on regressor aboost-3\tFit time: 3.15\n",
      "Starting on regressor aboost-4\tFit time: 4.26\n",
      "Starting on regressor aboost-5\tFit time: 5.30\n",
      "Starting on regressor aboost-10\tFit time: 10.28\n",
      "Starting on regressor aboost-20\tFit time: 19.77\n"
     ]
    }
   ],
   "source": [
    "from sklearn.linear_model import \\\n",
    "    LinearRegression, LogisticRegression, BayesianRidge, ElasticNet, Lasso\n",
    "from sklearn.ensemble import \\\n",
    "    RandomForestRegressor, AdaBoostRegressor, BaggingRegressor, ExtraTreesRegressor, GradientBoostingRegressor\n",
    "from sklearn.neural_network import MLPRegressor\n",
    "from sklearn.svm import LinearSVR\n",
    "from sklearn.tree import DecisionTreeRegressor\n",
    "\n",
    "if not os.path.exists('results'):\n",
    "    os.makedirs('results')\n",
    "\n",
    "regressors = {\n",
    "    'linear':   LinearRegression(),\n",
    "    'bayesian': BayesianRidge(),\n",
    "    'mlp':      MLPRegressor(),\n",
    "    'linSVR':   LinearSVR(),\n",
    "    'elastic':  ElasticNet(),\n",
    "    'lasso':    Lasso()\n",
    "}\n",
    "fast_regressors = {\n",
    "    'forest': ('Random Forest', RandomForestRegressor),\n",
    "    'bagger': ('Bagging', BaggingRegressor),\n",
    "    'extrat': ('Extra Trees', ExtraTreesRegressor)\n",
    "}\n",
    "slow_regressors = {\n",
    "    'gboost': ('Gradient Boosting', GradientBoostingRegressor),\n",
    "    'aboost': ('AdaBoost Boosting', AdaBoostRegressor)\n",
    "}\n",
    "fast_estimators = [1, 2, 3, 4, 5, 10, 20, 30, 40, 50, 100]\n",
    "slow_estimators = [1, 2, 3, 4, 5, 10, 20]\n",
    "for key in fast_regressors:\n",
    "    for i in fast_estimators:\n",
    "        regressor = fast_regressors[key][1]\n",
    "        regressors[key + '-{}'.format(i)] = regressor(n_jobs=8, n_estimators=i)\n",
    "for key in slow_regressors:\n",
    "    for i in slow_estimators:\n",
    "        regressor = slow_regressors[key][1]\n",
    "        regressors[key + '-{}'.format(i)] = regressor(n_estimators=i)\n",
    "\n",
    "data = {}\n",
    "for name, regressor in regressors.items():\n",
    "    print(\"Starting on regressor {}     \".format(name), end='\\t')\n",
    "    start_time = time.time()\n",
    "    regressor.fit(x_train, y_train)\n",
    "    end_time = time.time()\n",
    "    print(\"Fit time: {:.2f}\".format(end_time - start_time))"
   ]
  },
  {
   "cell_type": "code",
   "execution_count": 29,
   "metadata": {},
   "outputs": [
    {
     "name": "stdout",
     "output_type": "stream",
     "text": [
      "Analyzing results for regressor linear...  \tAverage Error: 8.22, Test RMSE: 11.01\n",
      "Analyzing results for regressor bayesian...  \tAverage Error: 8.22, Test RMSE: 11.01\n",
      "Analyzing results for regressor mlp...  \tAverage Error: 11.49, Test RMSE: 15.07\n",
      "Analyzing results for regressor linSVR...  \tAverage Error: 20.12, Test RMSE: 28.99\n",
      "Analyzing results for regressor elastic...  \tAverage Error: 8.24, Test RMSE: 11.07\n",
      "Analyzing results for regressor lasso...  \tAverage Error: 8.24, Test RMSE: 11.07\n",
      "Analyzing results for regressor forest-1...  \tAverage Error: 10.64, Test RMSE: 14.38\n",
      "Analyzing results for regressor forest-2...  \tAverage Error: 9.20, Test RMSE: 12.28\n",
      "Analyzing results for regressor forest-3...  \tAverage Error: 8.64, Test RMSE: 11.51\n",
      "Analyzing results for regressor forest-4...  \tAverage Error: 8.45, Test RMSE: 11.15\n",
      "Analyzing results for regressor forest-5...  \tAverage Error: 8.24, Test RMSE: 10.93\n",
      "Analyzing results for regressor forest-10...  \tAverage Error: 7.78, Test RMSE: 10.42\n",
      "Analyzing results for regressor forest-20...  \tAverage Error: 7.57, Test RMSE: 10.12\n",
      "Analyzing results for regressor forest-30...  \tAverage Error: 7.43, Test RMSE: 9.98\n",
      "Analyzing results for regressor forest-40...  \tAverage Error: 7.45, Test RMSE: 9.97\n",
      "Analyzing results for regressor forest-50...  \tAverage Error: 7.40, Test RMSE: 9.92\n",
      "Analyzing results for regressor forest-100...  \tAverage Error: 7.33, Test RMSE: 9.84\n",
      "Analyzing results for regressor bagger-1...  \tAverage Error: 10.84, Test RMSE: 14.66\n",
      "Analyzing results for regressor bagger-2...  \tAverage Error: 9.15, Test RMSE: 12.18\n",
      "Analyzing results for regressor bagger-3...  \tAverage Error: 8.63, Test RMSE: 11.50\n",
      "Analyzing results for regressor bagger-4...  \tAverage Error: 8.27, Test RMSE: 11.04\n",
      "Analyzing results for regressor bagger-5...  \tAverage Error: 8.17, Test RMSE: 10.90\n",
      "Analyzing results for regressor bagger-10...  \tAverage Error: 7.73, Test RMSE: 10.30\n",
      "Analyzing results for regressor bagger-20...  \tAverage Error: 7.50, Test RMSE: 10.05\n",
      "Analyzing results for regressor bagger-30...  \tAverage Error: 7.48, Test RMSE: 10.01\n",
      "Analyzing results for regressor bagger-40...  \tAverage Error: 7.38, Test RMSE: 9.93\n",
      "Analyzing results for regressor bagger-50...  \tAverage Error: 7.35, Test RMSE: 9.85\n",
      "Analyzing results for regressor bagger-100...  \tAverage Error: 7.29, Test RMSE: 9.79\n",
      "Analyzing results for regressor extrat-1...  \tAverage Error: 10.66, Test RMSE: 14.55\n",
      "Analyzing results for regressor extrat-2...  \tAverage Error: 8.98, Test RMSE: 11.99\n",
      "Analyzing results for regressor extrat-3...  \tAverage Error: 8.66, Test RMSE: 11.51\n",
      "Analyzing results for regressor extrat-4...  \tAverage Error: 8.13, Test RMSE: 10.90\n",
      "Analyzing results for regressor extrat-5...  \tAverage Error: 8.12, Test RMSE: 10.81\n",
      "Analyzing results for regressor extrat-10...  \tAverage Error: 7.58, Test RMSE: 10.20\n",
      "Analyzing results for regressor extrat-20...  \tAverage Error: 7.38, Test RMSE: 9.91\n",
      "Analyzing results for regressor extrat-30...  \tAverage Error: 7.29, Test RMSE: 9.81\n",
      "Analyzing results for regressor extrat-40...  \tAverage Error: 7.29, Test RMSE: 9.80\n",
      "Analyzing results for regressor extrat-50...  \tAverage Error: 7.26, Test RMSE: 9.75\n",
      "Analyzing results for regressor extrat-100...  \tAverage Error: 7.22, Test RMSE: 9.70\n",
      "Analyzing results for regressor gboost-1...  \tAverage Error: 16.41, Test RMSE: 19.16\n",
      "Analyzing results for regressor gboost-2...  \tAverage Error: 15.29, Test RMSE: 17.97\n",
      "Analyzing results for regressor gboost-3...  \tAverage Error: 14.31, Test RMSE: 16.93\n",
      "Analyzing results for regressor gboost-4...  \tAverage Error: 13.45, Test RMSE: 16.03\n",
      "Analyzing results for regressor gboost-5...  \tAverage Error: 12.73, Test RMSE: 15.25\n",
      "Analyzing results for regressor gboost-10...  \tAverage Error: 10.26, Test RMSE: 12.73\n",
      "Analyzing results for regressor gboost-20...  \tAverage Error: 8.50, Test RMSE: 11.07\n",
      "Analyzing results for regressor aboost-1...  \tAverage Error: 10.36, Test RMSE: 14.06\n",
      "Analyzing results for regressor aboost-2...  \tAverage Error: 10.75, Test RMSE: 14.43\n",
      "Analyzing results for regressor aboost-3...  \tAverage Error: 8.72, Test RMSE: 11.90\n",
      "Analyzing results for regressor aboost-4...  \tAverage Error: 8.94, Test RMSE: 12.15\n",
      "Analyzing results for regressor aboost-5...  \tAverage Error: 8.49, Test RMSE: 11.52\n",
      "Analyzing results for regressor aboost-10...  \tAverage Error: 7.85, Test RMSE: 10.76\n",
      "Analyzing results for regressor aboost-20...  \tAverage Error: 7.54, Test RMSE: 10.33\n",
      "Done analyzing results!\n"
     ]
    }
   ],
   "source": [
    "for name, regressor in regressors.items():\n",
    "    print(\"Analyzing results for regressor {}...  \".format(name), end='\\t')\n",
    "    pred = regressor.predict(x_test)\n",
    "    errs = Variable(torch.Tensor(pred - y_test))\n",
    "    loss = errs.pow(2).sum()\n",
    "    avg_err = errs.abs().mean().data.numpy()[0]\n",
    "    rmse = np.sqrt(loss.data.numpy()[0] / N_TEST)\n",
    "    data[name] = [avg_err, rmse]\n",
    "    \n",
    "    plt.clf()\n",
    "    plt.hist(errs.data.numpy(), bins=100)\n",
    "    plt.xlabel(\"Popularity Prediction Error\")\n",
    "    plt.ylabel(\"Count\")\n",
    "    plt.title(\n",
    "        'Prediction Errors for Model \\\"{}\\\"'\n",
    "        '\\nAverage Error: {:4.2f}, Test RMSE: {:4.2f}'.format(\n",
    "        name, avg_err, rmse\n",
    "    ))\n",
    "    plt.savefig(\"results/v2-split90-{}.png\".format(name))\n",
    "    print(\"Average Error: {:4.2f}, Test RMSE: {:4.2f}\".format(\n",
    "        avg_err, rmse\n",
    "    ))\n",
    "\n",
    "with open(\"results/v2-split90-data.csv\", \"w+\") as csvfile:\n",
    "    writer = csv.writer(csvfile)\n",
    "    writer.writerow(['Model', 'Average Error', 'RMSE'])\n",
    "    for model in data:\n",
    "        writer.writerow([model] + data[model])\n",
    "\n",
    "plt.clf()\n",
    "for key in fast_regressors:\n",
    "    plt.plot(fast_estimators, list(map(\n",
    "        lambda e: data[key + '-{}'.format(e)][0], fast_estimators\n",
    "    )), label=fast_regressors[key][0])\n",
    "plt.xlabel('# Estimators')\n",
    "plt.ylabel('Average Prediction Error')\n",
    "plt.title('Average Prediction Error vs. # Estimators for Parallelizable Regressors')\n",
    "plt.legend()\n",
    "plt.savefig('results/fast-err.png')\n",
    "\n",
    "plt.clf()\n",
    "for key in fast_regressors:\n",
    "    plt.plot(fast_estimators, list(map(\n",
    "        lambda e: data[key + '-{}'.format(e)][1], fast_estimators\n",
    "    )), label=fast_regressors[key][0])\n",
    "plt.xlabel('# Estimators')\n",
    "plt.ylabel('RMSE')\n",
    "plt.title('RMSE vs. # Estimators for Parallelizable Regressors')\n",
    "plt.legend()\n",
    "plt.savefig('results/fast-rmse.png')\n",
    "\n",
    "plt.clf()\n",
    "for key in slow_regressors:\n",
    "    plt.plot(slow_estimators, list(map(\n",
    "        lambda e: data[key + '-{}'.format(e)][0], slow_estimators\n",
    "    )), label=slow_regressors[key][0])\n",
    "plt.xlabel('# Estimators')\n",
    "plt.ylabel('Average Prediction Error')\n",
    "plt.title('Average Prediction Error vs. # Estimators for Non-Parallelizable Regressors')\n",
    "plt.legend()\n",
    "plt.savefig('results/slow-err.png')\n",
    "\n",
    "plt.clf()\n",
    "for key in slow_regressors:\n",
    "    plt.plot(slow_estimators, list(map(\n",
    "        lambda e: data[key + '-{}'.format(e)][1], slow_estimators\n",
    "    )), label=slow_regressors[key][0])\n",
    "plt.xlabel('# Estimators')\n",
    "plt.ylabel('RMSE')\n",
    "plt.title('RMSE vs. # Estimators for Non-Parallelizable Regressors')\n",
    "plt.legend()\n",
    "plt.savefig('results/slow-rmse.png')\n",
    "\n",
    "print(\"Done analyzing results!\")"
   ]
  },
  {
   "cell_type": "code",
   "execution_count": 70,
   "metadata": {},
   "outputs": [
    {
     "name": "stdout",
     "output_type": "stream",
     "text": [
      "Fit time: 2.12\n"
     ]
    }
   ],
   "source": [
    "print(\"Logistic Regression: Classification\")\n",
    "lr = LogisticRegression(n_jobs=8, tol=10 ** -10)\n",
    "start_time = time.time()\n",
    "lr.fit(x_train, (y_train >= 80).astype(np.int))\n",
    "end_time = time.time()\n",
    "print(\"Fit time: {:.2f}\".format(end_time - start_time))\n",
    "\n",
    "pred = lr.predict(x_test)\n",
    "print(sum(pred))\n",
    "total = 0\n",
    "correct = 0\n",
    "for i in range(len(y_test)):\n",
    "    val = y_test[i]\n",
    "    if val < 80:\n",
    "        total += 1\n",
    "        if pred[i] == 0:\n",
    "            correct += 1\n",
    "print(total, correct)"
   ]
  },
  {
   "cell_type": "code",
   "execution_count": 27,
   "metadata": {},
   "outputs": [
    {
     "data": {
      "text/plain": [
       "array(['artist_popularity', 'release_date', 'album_length', 'loudness',\n",
       "       'instrumentalness', 'duration', 'num_segments', 'acousticness',\n",
       "       'start_of_fade_out', 'num_tatums', 'energy', 'num_beats',\n",
       "       'num_sections', 'track_number', 'num_bars', 'danceability',\n",
       "       'valence', 'explicit', 'speechiness', 'time_signature_confidence',\n",
       "       'end_of_fade_in', 'mode_confidence', 'tempo', 'time_signature',\n",
       "       'liveness', 'tempo_confidence', 'mode', 'key', 'key_confidence'],\n",
       "      dtype='<U25')"
      ]
     },
     "execution_count": 27,
     "metadata": {},
     "output_type": "execute_result"
    }
   ],
   "source": [
    "mi = mutual_info_regression(x_data, y_data)\n",
    "feature_ranking = np.argsort(mi)[::-1]\n",
    "features = hdrs[2:]\n",
    "features.pop(features.index('popularity'))\n",
    "np.array(features)[feature_ranking]"
   ]
  },
  {
   "cell_type": "code",
   "execution_count": 3,
   "metadata": {},
   "outputs": [
    {
     "name": "stdout",
     "output_type": "stream",
     "text": [
      "\\begin{tabular}{|l|l|l|}\\hline\n",
      "Model & Average Error & RMSE \\\\\\hline\n",
      "linear & 8.16702 & 10.9666643759 \\\\\\hline\n",
      "bayesian & 8.16673 & 10.9671216724 \\\\\\hline\n",
      "forest-1 & 10.468 & 14.2349686265 \\\\\\hline\n",
      "forest-2 & 9.26406 & 12.2648950167 \\\\\\hline\n",
      "forest-3 & 8.42197 & 11.2565322817 \\\\\\hline\n",
      "forest-4 & 8.20438 & 10.9301958824 \\\\\\hline\n",
      "forest-5 & 8.04336 & 10.6330513003 \\\\\\hline\n",
      "forest-10 & 7.62878 & 10.1286369129 \\\\\\hline\n",
      "forest-20 & 7.42177 & 9.91521117932 \\\\\\hline\n",
      "forest-30 & 7.3393 & 9.82849583391 \\\\\\hline\n",
      "forest-40 & 7.29246 & 9.76124764798 \\\\\\hline\n",
      "forest-50 & 7.29152 & 9.73650031398 \\\\\\hline\n",
      "forest-100 & 7.25652 & 9.72042142821 \\\\\\hline\n",
      "forest-200 & 7.20697 & 9.63950109076 \\\\\\hline\n",
      "forest-300 & 7.19834 & 9.6407047649 \\\\\\hline\n",
      "\\end{tabular}\n"
     ]
    }
   ],
   "source": [
    "def table(csv):\n",
    "    with open(csv) as f:\n",
    "        n = None\n",
    "        for line in f:\n",
    "            tokens = line.strip().split(',')\n",
    "            if n is None:\n",
    "                n = len(tokens)\n",
    "                print(\"\\\\begin{tabular}{\" + \"l\".join([\"|\" for _ in range(n + 1)]) + \"}\\\\hline\")\n",
    "            print(\" & \".join(tokens) + \" \\\\\\\\\\\\hline\")\n",
    "        print(\"\\\\end{tabular}\")\n",
    "    \n",
    "# table(\"results_43400/v2-split90-data.csv\")"
   ]
  },
  {
   "cell_type": "code",
   "execution_count": null,
   "metadata": {
    "collapsed": true
   },
   "outputs": [],
   "source": []
  }
 ],
 "metadata": {
  "kernelspec": {
   "display_name": "Python 3",
   "language": "python",
   "name": "python3"
  },
  "language_info": {
   "codemirror_mode": {
    "name": "ipython",
    "version": 3
   },
   "file_extension": ".py",
   "mimetype": "text/x-python",
   "name": "python",
   "nbconvert_exporter": "python",
   "pygments_lexer": "ipython3",
   "version": "3.6.1"
  }
 },
 "nbformat": 4,
 "nbformat_minor": 2
}
