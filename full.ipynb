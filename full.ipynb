{
 "cells": [
  {
   "cell_type": "code",
   "execution_count": 53,
   "metadata": {
    "collapsed": true
   },
   "outputs": [],
   "source": [
    "import csv\n",
    "import numpy as np\n",
    "import time\n",
    "import torch\n",
    "from collections import OrderedDict\n",
    "from matplotlib import pyplot as plt\n",
    "from sklearn.linear_model import LinearRegression\n",
    "from sklearn.ensemble import RandomForestRegressor\n",
    "from torch.autograd import Variable"
   ]
  },
  {
   "cell_type": "code",
   "execution_count": 18,
   "metadata": {},
   "outputs": [],
   "source": [
    "hdrs = None\n",
    "data = None\n",
    "\n",
    "# parse data from song features\n",
    "with open(\"data/random_song_features.csv\", \"r\") as f:\n",
    "    reader = csv.reader(f)\n",
    "    all_rows = list(reader)\n",
    "    hdrs = all_rows[0]\n",
    "    data = all_rows[1:]\n",
    "    \n",
    "data = np.array(data)\n",
    "pop_index = hdrs.index('popularity')\n",
    "all_id = data[:,:2]\n",
    "data = data[:,2:]\n",
    "y_data = data[:,pop_index - 2]\n",
    "x_data = np.delete(data, pop_index - 2, 1)\n",
    "y_data = y_data.astype(np.float)\n",
    "x_data = x_data.astype(np.float)"
   ]
  },
  {
   "cell_type": "code",
   "execution_count": 35,
   "metadata": {},
   "outputs": [
    {
     "name": "stdout",
     "output_type": "stream",
     "text": [
      "Train: 4905\n",
      "Test:  545\n"
     ]
    }
   ],
   "source": [
    "N_ROWS = len(x_data)\n",
    "N_TRAIN = int(0.9 * N_ROWS)\n",
    "N_TEST = N_ROWS - N_TRAIN\n",
    "x_train = x_data[:N_TRAIN]\n",
    "y_train = y_data[:N_TRAIN]\n",
    "x_test = x_data[N_TRAIN:]\n",
    "y_test = y_data[N_TRAIN:]\n",
    "print(\"Train: {}\\nTest:  {}\".format(N_TRAIN, N_ROWS - N_TRAIN))"
   ]
  },
  {
   "cell_type": "code",
   "execution_count": null,
   "metadata": {
    "hide_input": false,
    "scrolled": false
   },
   "outputs": [],
   "source": [
    "# N_STEPS, INCREMENTS, LR = 20000, 10, 0.001\n",
    "# loss_fn = torch.nn.MSELoss()\n",
    "# net     = torch.nn.Sequential(OrderedDict([\n",
    "#     ('lin1', torch.nn.Linear(N_FEATURES, 1)),\n",
    "# #     ('relu', torch.nn.ReLU()),\n",
    "# #     ('lin2', torch.nn.Linear(5, 1))\n",
    "# ]))\n",
    "# optim   = torch.optim.Adam(net.parameters(), lr=LR)\n",
    "\n",
    "# losses = []\n",
    "# last_time = time.time()\n",
    "# for step in range(N_STEPS):\n",
    "#     pred = net.forward(x_train)\n",
    "#     loss = loss_fn(pred, y_train)\n",
    "#     if (step + 1) % (N_STEPS // INCREMENTS) == 0:\n",
    "#         curr_time = time.time()\n",
    "#         elapsed = curr_time - last_time\n",
    "#         last_time = curr_time\n",
    "#         print(\"Done with batch {:02d}/{:02d}, elapsed time {:04.2f}; loss is {:.2f} \".format(\n",
    "#             (step + 1) // (N_STEPS // INCREMENTS), INCREMENTS, elapsed, loss.data.numpy()[0]\n",
    "#         ))\n",
    "#     losses.append(loss.data.numpy()[0])\n",
    "#     optim.zero_grad()\n",
    "#     loss.backward()\n",
    "#     optim.step()"
   ]
  },
  {
   "cell_type": "code",
   "execution_count": 50,
   "metadata": {},
   "outputs": [],
   "source": [
    "# regressor = LinearRegression()\n",
    "# regressor.fit(x_train, y_train)\n",
    "# pred = regressor.predict(x_test)\n",
    "\n",
    "\n",
    "regressor = RandomForestRegressor(n_estimators=300)\n",
    "regressor.fit(x_train, y_train)\n",
    "pred = regressor.predict(x_test)"
   ]
  },
  {
   "cell_type": "code",
   "execution_count": 72,
   "metadata": {},
   "outputs": [
    {
     "name": "stdout",
     "output_type": "stream",
     "text": [
      "Starting on regressor linear\t\tAverage Error: 8.06, Test RMSE: 11.16\n",
      "Starting on regressor forest-1\t\tAverage Error: 10.12, Test RMSE: 14.24\n",
      "Starting on regressor forest-2\t\tAverage Error: 8.34, Test RMSE: 11.03\n",
      "Starting on regressor forest-3\t\tAverage Error: 8.67, Test RMSE: 11.81\n",
      "Starting on regressor forest-4\t\tAverage Error: 7.95, Test RMSE: 10.60\n",
      "Starting on regressor forest-5\t\tAverage Error: 8.43, Test RMSE: 11.51\n",
      "Starting on regressor forest-10\t\tAverage Error: 7.94, Test RMSE: 10.72\n",
      "Starting on regressor forest-20\t\tAverage Error: 7.82, Test RMSE: 10.33\n",
      "Starting on regressor forest-30\t\tAverage Error: 7.78, Test RMSE: 10.30\n",
      "Starting on regressor forest-40\t\tAverage Error: 7.62, Test RMSE: 10.18\n",
      "Starting on regressor forest-50\t\tAverage Error: 7.52, Test RMSE: 10.03\n",
      "Starting on regressor forest-100\t\tAverage Error: 7.52, Test RMSE: 10.02\n",
      "Starting on regressor forest-200\t\tAverage Error: 7.49, Test RMSE: 9.89\n",
      "Starting on regressor forest-300\t\tAverage Error: 7.56, Test RMSE: 10.06\n",
      "Done running models!\n"
     ]
    }
   ],
   "source": [
    "regressors = {\n",
    "    'linear': LinearRegression()\n",
    "}\n",
    "estimators = [1, 2, 3, 4, 5, 10, 20, 30, 40, 50, 100, 200, 300]\n",
    "for i in estimators:\n",
    "    regressors[\"forest-{}\".format(i)] = RandomForestRegressor(n_estimators=i)\n",
    "\n",
    "data = {}\n",
    "for name, regressor in regressors.items():\n",
    "    print(\"Starting on regressor {}\".format(name), end='\\t\\t')\n",
    "    regressor.fit(x_train, y_train)\n",
    "    pred = regressor.predict(x_test)\n",
    "    errs = Variable(torch.Tensor(pred - y_test))\n",
    "    loss = errs.pow(2).sum()\n",
    "    avg_err = errs.abs().mean().data.numpy()[0]\n",
    "    rmse = np.sqrt(loss.data.numpy()[0] / N_TEST)\n",
    "    data[name] = [avg_err, rmse]\n",
    "    \n",
    "    plt.clf()\n",
    "    plt.hist(errs.data.numpy(), bins=100)\n",
    "    plt.xlabel(\"Popularity Prediction Error\")\n",
    "    plt.ylabel(\"Count\")\n",
    "    plt.title(\n",
    "        'Prediction Errors for Model \\\"{}\\\"'\n",
    "        '\\nAverage Error: {:4.2f}, Test RMSE: {:4.2f}'.format(\n",
    "        name, avg_err, rmse\n",
    "    ))\n",
    "    plt.savefig(\"results/v2-split90-{}.png\".format(name))\n",
    "    print(\"Average Error: {:4.2f}, Test RMSE: {:4.2f}\".format(\n",
    "        avg_err, rmse\n",
    "    ))\n",
    "\n",
    "with open(\"results/v2-split90-data.csv\", \"w+\") as csvfile:\n",
    "    writer = csv.writer(csvfile)\n",
    "    writer.writerow(['Model', 'Average Error', 'RMSE'])\n",
    "    for model in data:\n",
    "        writer.writerow([model] + data[model])\n",
    "\n",
    "plt.clf()\n",
    "plt.scatter(estimators, list(map(\n",
    "    lambda e: data['forest-{}'.format(e)][0], estimators\n",
    ")))\n",
    "plt.title('Random Forest Regressor Average Prediction Error vs. # Estimators')\n",
    "plt.xlabel('# Estimators')\n",
    "plt.ylabel('Average Prediction Error')\n",
    "plt.savefig('results/v2-split90-rfr-err.png')\n",
    "\n",
    "plt.clf()\n",
    "plt.scatter(estimators, list(map(\n",
    "    lambda e: data['forest-{}'.format(e)][1], estimators\n",
    ")))\n",
    "plt.title('Random Forest Regressor RMSE vs. # Estimators')\n",
    "plt.xlabel('# Estimators')\n",
    "plt.ylabel('RMSE')\n",
    "plt.savefig('results/v2-split90-rfr-rmse.png')\n",
    "\n",
    "print(\"\\nDone running models!\")"
   ]
  },
  {
   "cell_type": "code",
   "execution_count": null,
   "metadata": {
    "collapsed": true
   },
   "outputs": [],
   "source": []
  }
 ],
 "metadata": {
  "kernelspec": {
   "display_name": "Python 3",
   "language": "python",
   "name": "python3"
  },
  "language_info": {
   "codemirror_mode": {
    "name": "ipython",
    "version": 3
   },
   "file_extension": ".py",
   "mimetype": "text/x-python",
   "name": "python",
   "nbconvert_exporter": "python",
   "pygments_lexer": "ipython3",
   "version": "3.6.1"
  }
 },
 "nbformat": 4,
 "nbformat_minor": 2
}
