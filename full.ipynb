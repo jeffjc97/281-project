{
 "cells": [
  {
   "cell_type": "code",
   "execution_count": 4,
   "metadata": {
    "collapsed": true
   },
   "outputs": [],
   "source": [
    "import csv\n",
    "import numpy as np\n",
    "import os\n",
    "import time\n",
    "import torch\n",
    "from collections import OrderedDict\n",
    "from matplotlib import pyplot as plt\n",
    "from sklearn.linear_model import LinearRegression, LogisticRegression, BayesianRidge\n",
    "from sklearn.ensemble import RandomForestRegressor\n",
    "from torch.autograd import Variable\n",
    "from sklearn.feature_selection import mutual_info_regression"
   ]
  },
  {
   "cell_type": "code",
   "execution_count": 2,
   "metadata": {
    "collapsed": true
   },
   "outputs": [],
   "source": [
    "hdrs = None\n",
    "data = None\n",
    "\n",
    "# parse data from song features\n",
    "with open(\"data/random_song_features.csv\", \"r\") as f:\n",
    "    reader = csv.reader(f)\n",
    "    all_rows = list(reader)\n",
    "    hdrs = all_rows[0]\n",
    "    data = all_rows[1:]\n",
    "    \n",
    "data = np.array(data)\n",
    "np.random.shuffle(data)\n",
    "pop_index = hdrs.index('popularity')\n",
    "all_id = data[:,:2]\n",
    "data = data[:,2:]\n",
    "y_data = data[:,pop_index - 2]\n",
    "x_data = np.delete(data, pop_index - 2, 1)\n",
    "y_data = y_data.astype(np.float)\n",
    "x_data = x_data.astype(np.float)"
   ]
  },
  {
   "cell_type": "code",
   "execution_count": 3,
   "metadata": {},
   "outputs": [
    {
     "name": "stdout",
     "output_type": "stream",
     "text": [
      "Train: 39060\n",
      "Test:  4340\n"
     ]
    }
   ],
   "source": [
    "N_ROWS = len(x_data)\n",
    "N_TRAIN = int(0.9 * N_ROWS)\n",
    "N_TEST = N_ROWS - N_TRAIN\n",
    "x_train = x_data[:N_TRAIN]\n",
    "y_train = y_data[:N_TRAIN]\n",
    "x_test = x_data[N_TRAIN:]\n",
    "y_test = y_data[N_TRAIN:]\n",
    "print(\"Train: {}\\nTest:  {}\".format(N_TRAIN, N_ROWS - N_TRAIN))"
   ]
  },
  {
   "cell_type": "code",
   "execution_count": 5,
   "metadata": {},
   "outputs": [
    {
     "name": "stdout",
     "output_type": "stream",
     "text": [
      "Starting on regressor linear\tFit time: 0.04\n",
      "Starting on regressor bayesian\tFit time: 0.06\n",
      "Starting on regressor forest-1\tFit time: 0.94\n",
      "Starting on regressor forest-2\tFit time: 0.92\n",
      "Starting on regressor forest-3\tFit time: 0.93\n",
      "Starting on regressor forest-4\tFit time: 1.03\n",
      "Starting on regressor forest-5\tFit time: 1.03\n",
      "Starting on regressor forest-10\tFit time: 2.08\n",
      "Starting on regressor forest-20\tFit time: 3.31\n",
      "Starting on regressor forest-30\tFit time: 4.96\n",
      "Starting on regressor forest-40\tFit time: 7.29\n",
      "Starting on regressor forest-50\tFit time: 9.56\n",
      "Starting on regressor forest-100\tFit time: 16.33\n",
      "Starting on regressor forest-200\tFit time: 35.43\n",
      "Starting on regressor forest-300\tFit time: 56.60\n"
     ]
    }
   ],
   "source": [
    "from sklearn.linear_model import \\\n",
    "    LinearRegression, LogisticRegression, BayesianRidge, ElasticNet, Lasso\n",
    "from sklearn.ensemble import \\\n",
    "    RandomForestRegressor, AdaBoostRegressor, BaggingRegressor, ExtraTreesRegressor, GradientBoostingRegressor\n",
    "from sklearn.neural_network import MLPRegressor\n",
    "from sklearn.svm import LinearSVR\n",
    "\n",
    "if not os.path.exists('results'):\n",
    "    os.makedirs('results')\n",
    "\n",
    "regressors = {\n",
    "    'linear':   LinearRegression(),\n",
    "    'bayesian': BayesianRidge(),\n",
    "    'mlp':      MLPRegressor(),\n",
    "    'linSVR':   LinearSVR(),\n",
    "    'adaboost': AdaBoostRegressor(),\n",
    "    'bagging':  BaggingRegressor(n_jobs=8),\n",
    "    'extra':    ExtraTreesRegressor(n_jobs=8),\n",
    "    'gradient': GradientBoostingRegressor(),\n",
    "    'elastic':  ElasticNet(),\n",
    "    'lasso':    Lasso()\n",
    "}\n",
    "estimators = [1, 2, 3, 4, 5, 10, 20, 30, 40, 50, 100, 200, 300]\n",
    "for i in estimators:\n",
    "    regressors[\"forest-{}\".format(i)] = RandomForestRegressor(n_estimators=i, n_jobs=8)\n",
    "\n",
    "data = {}\n",
    "for name, regressor in regressors.items():\n",
    "    print(\"Starting on regressor {}\".format(name), end='\\t')\n",
    "    start_time = time.time()\n",
    "    regressor.fit(x_train, y_train)\n",
    "    end_time = time.time()\n",
    "    print(\"Fit time: {:.2f}\".format(end_time - start_time))"
   ]
  },
  {
   "cell_type": "code",
   "execution_count": 65,
   "metadata": {},
   "outputs": [
    {
     "name": "stdout",
     "output_type": "stream",
     "text": [
      "Analyzing results for regressor linear...\tAverage Error: 8.44, Test RMSE: 11.31\n",
      "Analyzing results for regressor bayesian...\tAverage Error: 8.44, Test RMSE: 11.31\n",
      "Analyzing results for regressor forest-1...\tAverage Error: 10.47, Test RMSE: 14.17\n",
      "Done analyzing results!\n"
     ]
    }
   ],
   "source": [
    "for name, regressor in regressors.items():\n",
    "    print(\"Analyzing results for regressor {}...\".format(name), end='\\t')\n",
    "    pred = regressor.predict(x_test)\n",
    "    errs = Variable(torch.Tensor(pred - y_test))\n",
    "    loss = errs.pow(2).sum()\n",
    "    avg_err = errs.abs().mean().data.numpy()[0]\n",
    "    rmse = np.sqrt(loss.data.numpy()[0] / N_TEST)\n",
    "    data[name] = [avg_err, rmse]\n",
    "    \n",
    "    plt.clf()\n",
    "    plt.hist(errs.data.numpy(), bins=100)\n",
    "    plt.xlabel(\"Popularity Prediction Error\")\n",
    "    plt.ylabel(\"Count\")\n",
    "    plt.title(\n",
    "        'Prediction Errors for Model \\\"{}\\\"'\n",
    "        '\\nAverage Error: {:4.2f}, Test RMSE: {:4.2f}'.format(\n",
    "        name, avg_err, rmse\n",
    "    ))\n",
    "    plt.savefig(\"results/v2-split90-{}.png\".format(name))\n",
    "    print(\"Average Error: {:4.2f}, Test RMSE: {:4.2f}\".format(\n",
    "        avg_err, rmse\n",
    "    ))\n",
    "\n",
    "with open(\"results/v2-split90-data.csv\", \"w+\") as csvfile:\n",
    "    writer = csv.writer(csvfile)\n",
    "    writer.writerow(['Model', 'Average Error', 'RMSE'])\n",
    "    for model in data:\n",
    "        writer.writerow([model] + data[model])\n",
    "\n",
    "# plt.clf()\n",
    "# plt.scatter(estimators, list(map(\n",
    "#     lambda e: data['forest-{}'.format(e)][0], estimators\n",
    "# )))\n",
    "# plt.title('Random Forest Regressor Average Prediction Error vs. # Estimators')\n",
    "# plt.xlabel('# Estimators')\n",
    "# plt.ylabel('Average Prediction Error')\n",
    "# plt.savefig('results/v2-split90-rfr-err.png')\n",
    "\n",
    "# plt.clf()\n",
    "# plt.scatter(estimators, list(map(\n",
    "#     lambda e: data['forest-{}'.format(e)][1], estimators\n",
    "# )))\n",
    "# plt.title('Random Forest Regressor RMSE vs. # Estimators')\n",
    "# plt.xlabel('# Estimators')\n",
    "# plt.ylabel('RMSE')\n",
    "# plt.savefig('results/v2-split90-rfr-rmse.png')\n",
    "\n",
    "print(\"Done analyzing results!\")"
   ]
  },
  {
   "cell_type": "code",
   "execution_count": 70,
   "metadata": {},
   "outputs": [
    {
     "name": "stdout",
     "output_type": "stream",
     "text": [
      "Fit time: 2.12\n"
     ]
    }
   ],
   "source": [
    "print(\"Logistic Regression: Classification\")\n",
    "lr = LogisticRegression(n_jobs=8, tol=10 ** -10)\n",
    "start_time = time.time()\n",
    "lr.fit(x_train, (y_train >= 80).astype(np.int))\n",
    "end_time = time.time()\n",
    "print(\"Fit time: {:.2f}\".format(end_time - start_time))\n",
    "\n",
    "pred = lr.predict(x_test)\n",
    "print(sum(pred))\n",
    "total = 0\n",
    "correct = 0\n",
    "for i in range(len(y_test)):\n",
    "    val = y_test[i]\n",
    "    if val < 80:\n",
    "        total += 1\n",
    "        if pred[i] == 0:\n",
    "            correct += 1\n",
    "print(total, correct)"
   ]
  },
  {
   "cell_type": "code",
   "execution_count": 27,
   "metadata": {},
   "outputs": [
    {
     "data": {
      "text/plain": [
       "array(['artist_popularity', 'release_date', 'album_length', 'loudness',\n",
       "       'instrumentalness', 'duration', 'num_segments', 'acousticness',\n",
       "       'start_of_fade_out', 'num_tatums', 'energy', 'num_beats',\n",
       "       'num_sections', 'track_number', 'num_bars', 'danceability',\n",
       "       'valence', 'explicit', 'speechiness', 'time_signature_confidence',\n",
       "       'end_of_fade_in', 'mode_confidence', 'tempo', 'time_signature',\n",
       "       'liveness', 'tempo_confidence', 'mode', 'key', 'key_confidence'],\n",
       "      dtype='<U25')"
      ]
     },
     "execution_count": 27,
     "metadata": {},
     "output_type": "execute_result"
    }
   ],
   "source": [
    "mi = mutual_info_regression(x_data, y_data)\n",
    "feature_ranking = np.argsort(mi)[::-1]\n",
    "features = hdrs[2:]\n",
    "features.pop(features.index('popularity'))\n",
    "np.array(features)[feature_ranking]"
   ]
  },
  {
   "cell_type": "code",
   "execution_count": null,
   "metadata": {
    "collapsed": true
   },
   "outputs": [],
   "source": []
  }
 ],
 "metadata": {
  "kernelspec": {
   "display_name": "Python 3",
   "language": "python",
   "name": "python3"
  },
  "language_info": {
   "codemirror_mode": {
    "name": "ipython",
    "version": 3
   },
   "file_extension": ".py",
   "mimetype": "text/x-python",
   "name": "python",
   "nbconvert_exporter": "python",
   "pygments_lexer": "ipython3",
   "version": "3.6.1"
  }
 },
 "nbformat": 4,
 "nbformat_minor": 2
}
