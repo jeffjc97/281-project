{
 "cells": [
  {
   "cell_type": "code",
   "execution_count": 1,
   "metadata": {
    "collapsed": true
   },
   "outputs": [],
   "source": [
    "import csv, time, torch\n",
    "import numpy as np\n",
    "from collections import OrderedDict\n",
    "from matplotlib import pyplot as plt\n",
    "from torch.autograd import Variable"
   ]
  },
  {
   "cell_type": "code",
   "execution_count": 4,
   "metadata": {},
   "outputs": [],
   "source": [
    "hdrs = None\n",
    "data = None\n",
    "\n",
    "# parse data from song features\n",
    "with open(\"data_old/5000_artist_song_features.csv\", \"r\") as f:\n",
    "    reader = csv.reader(f)\n",
    "    all_rows = list(reader)\n",
    "    hdrs = all_rows[0]\n",
    "    data = all_rows[1:]"
   ]
  },
  {
   "cell_type": "code",
   "execution_count": 5,
   "metadata": {},
   "outputs": [
    {
     "name": "stdout",
     "output_type": "stream",
     "text": [
      "Number of total data rows: 43797\n"
     ]
    }
   ],
   "source": [
    "# join artist popularity into data set\n",
    "artists = {}\n",
    "hdrs.append('artist_popularity')\n",
    "with open(\"data_old/5000_artist_list.csv\", \"r\", encoding='ISO-8859-1') as f:\n",
    "    reader = csv.reader(f); next(reader)\n",
    "    for row in reader:\n",
    "        artists[row[0]] = {\n",
    "            \"name\": row[1],\n",
    "            \"popularity\": row[2]\n",
    "        }\n",
    "for i in range(len(data)):\n",
    "    artist_id = data[i][1]\n",
    "    if artist_id in artists:\n",
    "        data[i].append(artists[artist_id][\"popularity\"])\n",
    "        \n",
    "print(\"Number of total data rows: {}\".format(len(data)))"
   ]
  },
  {
   "cell_type": "code",
   "execution_count": 6,
   "metadata": {},
   "outputs": [
    {
     "name": "stdout",
     "output_type": "stream",
     "text": [
      "Number of valid data rows: 40134\n"
     ]
    }
   ],
   "source": [
    "data = list(filter(lambda row: len(row) == 21, data))\n",
    "print(\"Number of valid data rows: {}\".format(len(data)))"
   ]
  },
  {
   "cell_type": "code",
   "execution_count": 7,
   "metadata": {
    "collapsed": true
   },
   "outputs": [],
   "source": [
    "data_idx = [\n",
    "    'duration', 'explicit', 'danceability', 'energy', 'key', 'loudness', \n",
    "    'mode', 'speechiness', 'acousticness', 'instrumentalness', 'liveness', \n",
    "    'valence', 'tempo', 'time_signature', 'artist_popularity'\n",
    "]\n",
    "x_data_idx = list(map(lambda d: hdrs.index(d), data_idx))\n",
    "y_data_idx = [hdrs.index('popularity')]\n",
    "\n",
    "# do some parsing and convert data\n",
    "for i in range(len(data)):\n",
    "    data[i][4] = str(int(data[i][4] == 'True'))\n",
    "data = np.array(data)\n",
    "\n",
    "# retrieve features and predicted values\n",
    "y_data = data[:, y_data_idx].astype(np.float)\n",
    "x_data = data[:, x_data_idx].astype(np.float)"
   ]
  },
  {
   "cell_type": "code",
   "execution_count": 8,
   "metadata": {},
   "outputs": [
    {
     "name": "stdout",
     "output_type": "stream",
     "text": [
      "Number of features: 15\n",
      "Split into 36120 train | 4014 test\n"
     ]
    }
   ],
   "source": [
    "# form data sets\n",
    "N, F = x_data.shape\n",
    "N_TRAIN = int(N * 0.9)\n",
    "N_TEST = N - N_TRAIN\n",
    "N_FEATURES = len(x_data[0])\n",
    "x_train = Variable(torch.Tensor(x_data[:N_TRAIN]), requires_grad=False)\n",
    "y_train = Variable(torch.Tensor(y_data[:N_TRAIN]), requires_grad=False)\n",
    "x_test = Variable(torch.Tensor(x_data[N_TRAIN:]), requires_grad=False)\n",
    "y_test = Variable(torch.Tensor(y_data[N_TRAIN:]), requires_grad=False)\n",
    "print(\"Number of features: {}\".format(N_FEATURES))\n",
    "print(\"Split into {} train | {} test\".format(N_TRAIN, N_TEST))"
   ]
  },
  {
   "cell_type": "code",
   "execution_count": 7,
   "metadata": {
    "collapsed": true,
    "scrolled": false
   },
   "outputs": [],
   "source": [
    "# use PyTorch to perform Adam (SGD) on data set\n",
    "def run_adam():\n",
    "    N_STEPS, INCREMENTS, LR = 20000, 10, 0.001\n",
    "    loss_fn = torch.nn.MSELoss()\n",
    "    net     = torch.nn.Sequential(OrderedDict([\n",
    "        ('lin1', torch.nn.Linear(N_FEATURES, 1)),\n",
    "    #     ('relu', torch.nn.ReLU()),\n",
    "    #     ('lin2', torch.nn.Linear(5, 1))\n",
    "    ]))\n",
    "    optim   = torch.optim.Adam(net.parameters(), lr=LR)\n",
    "\n",
    "    losses = []\n",
    "    last_time = time.time()\n",
    "    for step in range(N_STEPS):\n",
    "        pred = net.forward(x_train)\n",
    "        loss = loss_fn(pred, y_train)\n",
    "        if (step + 1) % (N_STEPS // INCREMENTS) == 0:\n",
    "            curr_time = time.time()\n",
    "            elapsed = curr_time - last_time\n",
    "            last_time = curr_time\n",
    "            print(\"Done with batch {:02d}/{:02d}, elapsed time {:04.2f}; loss is {:.2f} \".format(\n",
    "                (step + 1) // (N_STEPS // INCREMENTS), INCREMENTS, elapsed, loss.data.numpy()[0]\n",
    "            ))\n",
    "        losses.append(loss.data.numpy()[0])\n",
    "        optim.zero_grad()\n",
    "        loss.backward()\n",
    "        optim.step()\n",
    "    pred = net.forward(x_test)\n",
    "    return pred, losses"
   ]
  },
  {
   "cell_type": "code",
   "execution_count": 9,
   "metadata": {
    "collapsed": true
   },
   "outputs": [],
   "source": [
    "# use sklearn random decision trees\n",
    "from sklearn.ensemble import RandomForestRegressor\n",
    "def run_tree():\n",
    "    regressor = RandomForestRegressor(max_depth=5, random_state=1, n_estimators=300)\n",
    "    print(\"Fitting regressor now...\")\n",
    "    x_data = x_train.data.numpy()\n",
    "    y_data = y_train.data.numpy().squeeze()\n",
    "    regressor.fit(x_data, y_data)\n",
    "    print(\"Done!\")\n",
    "    pred = regressor.predict(x_test.data.numpy())\n",
    "    return Variable(torch.Tensor(pred))"
   ]
  },
  {
   "cell_type": "code",
   "execution_count": 10,
   "metadata": {},
   "outputs": [
    {
     "name": "stdout",
     "output_type": "stream",
     "text": [
      "Fitting regressor now...\n",
      "Done!\n"
     ]
    },
    {
     "data": {
      "image/png": "[encoded data removed]",
      "text/plain": [
       "<matplotlib.figure.Figure at 0x13e609198>"
      ]
     },
     "metadata": {},
     "output_type": "display_data"
    },
    {
     "name": "stdout",
     "output_type": "stream",
     "text": [
      "Test Avg Error: 7.50\n",
      "Test RMSE: 10.35\n"
     ]
    }
   ],
   "source": [
    "def graph_losses(losses):\n",
    "    plt.figure()\n",
    "    plt.plot(\n",
    "        list(range(1, len(losses) + 1)),\n",
    "        list(map(np.log, losses))\n",
    "    )\n",
    "    plt.xlabel(\"SGD Step\")\n",
    "    plt.ylabel(\"MSE\")\n",
    "    plt.title(\"Log Popularity Prediction MSE vs. SGD Step Number\")\n",
    "    plt.show()\n",
    "    \n",
    "def calculate_mse(pred):\n",
    "    pred = pred.view(4014, 1)\n",
    "    errs = pred - y_test\n",
    "    loss = errs.pow(2).sum()\n",
    "    plt.figure()\n",
    "    plt.hist(errs.data.numpy(), bins=100)\n",
    "    plt.xlabel(\"Popularity Prediction Error\")\n",
    "    plt.ylabel(\"Count\")\n",
    "    plt.title(\"Histogram of Popularity Prediction Errors\")\n",
    "    plt.show()\n",
    "\n",
    "    print(\"Test Avg Error: {:4.2f}\".format(\n",
    "        errs.abs().mean().data.numpy()[0]\n",
    "    ))\n",
    "    print(\"Test RMSE: {:4.2f}\".format(\n",
    "        np.sqrt(loss.data.numpy()[0] / x_test.size()[0])\n",
    "    ))\n",
    "    \n",
    "# pred, losses = run_adam(); graph_losses(losses); calculate_mse(pred)\n",
    "pred = run_tree(); calculate_mse(pred)"
   ]
  },
  {
   "cell_type": "code",
   "execution_count": null,
   "metadata": {
    "collapsed": true
   },
   "outputs": [],
   "source": []
  }
 ],
 "metadata": {
  "kernelspec": {
   "display_name": "Python 3",
   "language": "python",
   "name": "python3"
  },
  "language_info": {
   "codemirror_mode": {
    "name": "ipython",
    "version": 3
   },
   "file_extension": ".py",
   "mimetype": "text/x-python",
   "name": "python",
   "nbconvert_exporter": "python",
   "pygments_lexer": "ipython3",
   "version": "3.6.1"
  }
 },
 "nbformat": 4,
 "nbformat_minor": 2
}
